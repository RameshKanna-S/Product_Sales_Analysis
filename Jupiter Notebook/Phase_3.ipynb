{
  "nbformat": 4,
  "nbformat_minor": 0,
  "metadata": {
    "colab": {
      "provenance": []
    },
    "kernelspec": {
      "name": "python3",
      "display_name": "Python 3"
    },
    "language_info": {
      "name": "python"
    }
  },
  "cells": [
    {
      "cell_type": "code",
      "execution_count": null,
      "metadata": {
        "id": "BfWIfbOP4XBL"
      },
      "outputs": [],
      "source": [
        "import pandas as pd\n",
        "import numpy as np\n",
        "import matplotlib.pyplot as plt\n",
        "import seaborn as sns\n"
      ]
    },
    {
      "cell_type": "code",
      "source": [
        "from google.colab import files\n",
        "uploaded=files.upload()"
      ],
      "metadata": {
        "colab": {
          "base_uri": "https://localhost:8080/",
          "height": 73
        },
        "id": "aGEGRyGv4eIJ",
        "outputId": "936328ce-97f8-4364-bc08-649b5e534bca"
      },
      "execution_count": 6,
      "outputs": [
        {
          "output_type": "display_data",
          "data": {
            "text/plain": [
              "<IPython.core.display.HTML object>"
            ],
            "text/html": [
              "\n",
              "     <input type=\"file\" id=\"files-c1fba54c-feef-470a-88e6-ab751c492ffb\" name=\"files[]\" multiple disabled\n",
              "        style=\"border:none\" />\n",
              "     <output id=\"result-c1fba54c-feef-470a-88e6-ab751c492ffb\">\n",
              "      Upload widget is only available when the cell has been executed in the\n",
              "      current browser session. Please rerun this cell to enable.\n",
              "      </output>\n",
              "      <script>// Copyright 2017 Google LLC\n",
              "//\n",
              "// Licensed under the Apache License, Version 2.0 (the \"License\");\n",
              "// you may not use this file except in compliance with the License.\n",
              "// You may obtain a copy of the License at\n",
              "//\n",
              "//      http://www.apache.org/licenses/LICENSE-2.0\n",
              "//\n",
              "// Unless required by applicable law or agreed to in writing, software\n",
              "// distributed under the License is distributed on an \"AS IS\" BASIS,\n",
              "// WITHOUT WARRANTIES OR CONDITIONS OF ANY KIND, either express or implied.\n",
              "// See the License for the specific language governing permissions and\n",
              "// limitations under the License.\n",
              "\n",
              "/**\n",
              " * @fileoverview Helpers for google.colab Python module.\n",
              " */\n",
              "(function(scope) {\n",
              "function span(text, styleAttributes = {}) {\n",
              "  const element = document.createElement('span');\n",
              "  element.textContent = text;\n",
              "  for (const key of Object.keys(styleAttributes)) {\n",
              "    element.style[key] = styleAttributes[key];\n",
              "  }\n",
              "  return element;\n",
              "}\n",
              "\n",
              "// Max number of bytes which will be uploaded at a time.\n",
              "const MAX_PAYLOAD_SIZE = 100 * 1024;\n",
              "\n",
              "function _uploadFiles(inputId, outputId) {\n",
              "  const steps = uploadFilesStep(inputId, outputId);\n",
              "  const outputElement = document.getElementById(outputId);\n",
              "  // Cache steps on the outputElement to make it available for the next call\n",
              "  // to uploadFilesContinue from Python.\n",
              "  outputElement.steps = steps;\n",
              "\n",
              "  return _uploadFilesContinue(outputId);\n",
              "}\n",
              "\n",
              "// This is roughly an async generator (not supported in the browser yet),\n",
              "// where there are multiple asynchronous steps and the Python side is going\n",
              "// to poll for completion of each step.\n",
              "// This uses a Promise to block the python side on completion of each step,\n",
              "// then passes the result of the previous step as the input to the next step.\n",
              "function _uploadFilesContinue(outputId) {\n",
              "  const outputElement = document.getElementById(outputId);\n",
              "  const steps = outputElement.steps;\n",
              "\n",
              "  const next = steps.next(outputElement.lastPromiseValue);\n",
              "  return Promise.resolve(next.value.promise).then((value) => {\n",
              "    // Cache the last promise value to make it available to the next\n",
              "    // step of the generator.\n",
              "    outputElement.lastPromiseValue = value;\n",
              "    return next.value.response;\n",
              "  });\n",
              "}\n",
              "\n",
              "/**\n",
              " * Generator function which is called between each async step of the upload\n",
              " * process.\n",
              " * @param {string} inputId Element ID of the input file picker element.\n",
              " * @param {string} outputId Element ID of the output display.\n",
              " * @return {!Iterable<!Object>} Iterable of next steps.\n",
              " */\n",
              "function* uploadFilesStep(inputId, outputId) {\n",
              "  const inputElement = document.getElementById(inputId);\n",
              "  inputElement.disabled = false;\n",
              "\n",
              "  const outputElement = document.getElementById(outputId);\n",
              "  outputElement.innerHTML = '';\n",
              "\n",
              "  const pickedPromise = new Promise((resolve) => {\n",
              "    inputElement.addEventListener('change', (e) => {\n",
              "      resolve(e.target.files);\n",
              "    });\n",
              "  });\n",
              "\n",
              "  const cancel = document.createElement('button');\n",
              "  inputElement.parentElement.appendChild(cancel);\n",
              "  cancel.textContent = 'Cancel upload';\n",
              "  const cancelPromise = new Promise((resolve) => {\n",
              "    cancel.onclick = () => {\n",
              "      resolve(null);\n",
              "    };\n",
              "  });\n",
              "\n",
              "  // Wait for the user to pick the files.\n",
              "  const files = yield {\n",
              "    promise: Promise.race([pickedPromise, cancelPromise]),\n",
              "    response: {\n",
              "      action: 'starting',\n",
              "    }\n",
              "  };\n",
              "\n",
              "  cancel.remove();\n",
              "\n",
              "  // Disable the input element since further picks are not allowed.\n",
              "  inputElement.disabled = true;\n",
              "\n",
              "  if (!files) {\n",
              "    return {\n",
              "      response: {\n",
              "        action: 'complete',\n",
              "      }\n",
              "    };\n",
              "  }\n",
              "\n",
              "  for (const file of files) {\n",
              "    const li = document.createElement('li');\n",
              "    li.append(span(file.name, {fontWeight: 'bold'}));\n",
              "    li.append(span(\n",
              "        `(${file.type || 'n/a'}) - ${file.size} bytes, ` +\n",
              "        `last modified: ${\n",
              "            file.lastModifiedDate ? file.lastModifiedDate.toLocaleDateString() :\n",
              "                                    'n/a'} - `));\n",
              "    const percent = span('0% done');\n",
              "    li.appendChild(percent);\n",
              "\n",
              "    outputElement.appendChild(li);\n",
              "\n",
              "    const fileDataPromise = new Promise((resolve) => {\n",
              "      const reader = new FileReader();\n",
              "      reader.onload = (e) => {\n",
              "        resolve(e.target.result);\n",
              "      };\n",
              "      reader.readAsArrayBuffer(file);\n",
              "    });\n",
              "    // Wait for the data to be ready.\n",
              "    let fileData = yield {\n",
              "      promise: fileDataPromise,\n",
              "      response: {\n",
              "        action: 'continue',\n",
              "      }\n",
              "    };\n",
              "\n",
              "    // Use a chunked sending to avoid message size limits. See b/62115660.\n",
              "    let position = 0;\n",
              "    do {\n",
              "      const length = Math.min(fileData.byteLength - position, MAX_PAYLOAD_SIZE);\n",
              "      const chunk = new Uint8Array(fileData, position, length);\n",
              "      position += length;\n",
              "\n",
              "      const base64 = btoa(String.fromCharCode.apply(null, chunk));\n",
              "      yield {\n",
              "        response: {\n",
              "          action: 'append',\n",
              "          file: file.name,\n",
              "          data: base64,\n",
              "        },\n",
              "      };\n",
              "\n",
              "      let percentDone = fileData.byteLength === 0 ?\n",
              "          100 :\n",
              "          Math.round((position / fileData.byteLength) * 100);\n",
              "      percent.textContent = `${percentDone}% done`;\n",
              "\n",
              "    } while (position < fileData.byteLength);\n",
              "  }\n",
              "\n",
              "  // All done.\n",
              "  yield {\n",
              "    response: {\n",
              "      action: 'complete',\n",
              "    }\n",
              "  };\n",
              "}\n",
              "\n",
              "scope.google = scope.google || {};\n",
              "scope.google.colab = scope.google.colab || {};\n",
              "scope.google.colab._files = {\n",
              "  _uploadFiles,\n",
              "  _uploadFilesContinue,\n",
              "};\n",
              "})(self);\n",
              "</script> "
            ]
          },
          "metadata": {}
        },
        {
          "output_type": "stream",
          "name": "stdout",
          "text": [
            "Saving statsfinal (2).csv to statsfinal (2).csv\n"
          ]
        }
      ]
    },
    {
      "cell_type": "code",
      "source": [
        "df = pd.read_csv('statsfinal.csv')"
      ],
      "metadata": {
        "id": "lTpWENZV4h58"
      },
      "execution_count": 8,
      "outputs": []
    },
    {
      "cell_type": "code",
      "source": [
        "\n",
        "date_column_name = 'Date'  # Replace with the name of your date column\n",
        "df[date_column_name] = pd.to_datetime(df[date_column_name], errors='coerce')\n",
        "\n",
        "# Step 3: Handle errors or inconsistencies (e.g., fill NaN values or drop invalid rows)\n",
        "# Example: Drop rows with invalid dates\n",
        "df = df.dropna(subset=[date_column_name])\n",
        "\n",
        "# Step 4: Save the cleaned DataFrame back to a new Excel file\n",
        "output_file_path = 'cleaned_excel_file.xlsx'  # Replace with the desired output file path\n",
        "df.to_excel(output_file_path, index=False)\n",
        "\n",
        "print(\"Cleaned data saved to\", output_file_path)\n"
      ],
      "metadata": {
        "colab": {
          "base_uri": "https://localhost:8080/"
        },
        "id": "3iRURaQ05gvm",
        "outputId": "66d73bfe-1cd5-4c86-fd46-a832a23e3ae4"
      },
      "execution_count": 9,
      "outputs": [
        {
          "output_type": "stream",
          "name": "stderr",
          "text": [
            "<ipython-input-9-70e4aeeed2e2>:2: UserWarning: Parsing dates in DD/MM/YYYY format when dayfirst=False (the default) was specified. This may lead to inconsistently parsed dates! Specify a format to ensure consistent parsing.\n",
            "  df[date_column_name] = pd.to_datetime(df[date_column_name], errors='coerce')\n"
          ]
        },
        {
          "output_type": "stream",
          "name": "stdout",
          "text": [
            "Cleaned data saved to cleaned_excel_file.xlsx\n"
          ]
        }
      ]
    },
    {
      "cell_type": "code",
      "source": [
        "summary_stats = df.describe()\n",
        "print(summary_stats)\n"
      ],
      "metadata": {
        "colab": {
          "base_uri": "https://localhost:8080/"
        },
        "id": "SnsVJYcLELUL",
        "outputId": "76e98304-3a66-495f-95dc-b1f551cdd538"
      },
      "execution_count": 10,
      "outputs": [
        {
          "output_type": "stream",
          "name": "stdout",
          "text": [
            "        Unnamed: 0         Q-P1         Q-P2         Q-P3         Q-P4  \\\n",
            "count  4575.000000  4575.000000  4575.000000  4575.000000  4575.000000   \n",
            "mean   2298.893989  4123.531148  2129.314317  3144.170710  1123.614645   \n",
            "std    1328.106921  2243.482107  1089.704783  1671.090234   497.829405   \n",
            "min       0.000000   254.000000   251.000000   250.000000   250.000000   \n",
            "25%    1148.500000  2150.000000  1166.000000  1695.500000   695.500000   \n",
            "50%    2299.000000  4138.000000  2133.000000  3197.000000  1137.000000   \n",
            "75%    3449.500000  6072.000000  3069.500000  4567.000000  1545.500000   \n",
            "max    4599.000000  7998.000000  3998.000000  6000.000000  2000.000000   \n",
            "\n",
            "               S-P1          S-P2          S-P3          S-P4  \\\n",
            "count   4575.000000   4575.000000   4575.000000   4575.000000   \n",
            "mean   13071.593738  13499.852769  17041.405250   8011.372417   \n",
            "std     7111.838279   6908.728326   9057.309068   3549.523656   \n",
            "min      805.180000   1591.340000   1355.000000   1782.500000   \n",
            "25%     6815.500000   7392.440000   9189.610000   4958.915000   \n",
            "50%    13117.460000  13523.220000  17327.740000   8106.810000   \n",
            "75%    19248.240000  19460.630000  24753.140000  11019.415000   \n",
            "max    25353.660000  25347.320000  32520.000000  14260.000000   \n",
            "\n",
            "       marketing_strategy  \n",
            "count                 0.0  \n",
            "mean                  NaN  \n",
            "std                   NaN  \n",
            "min                   NaN  \n",
            "25%                   NaN  \n",
            "50%                   NaN  \n",
            "75%                   NaN  \n",
            "max                   NaN  \n"
          ]
        }
      ]
    },
    {
      "cell_type": "code",
      "source": [
        "# Check for missing values\n",
        "missing_values = df.isnull().sum()\n",
        "\n",
        "# Check for duplicates\n",
        "duplicate_rows = df[df.duplicated(keep='first')]\n",
        "\n",
        "print(\"Missing Values:\")\n",
        "print(missing_values)\n",
        "print(\"Duplicate Rows:\")\n",
        "print(duplicate_rows)"
      ],
      "metadata": {
        "colab": {
          "base_uri": "https://localhost:8080/"
        },
        "id": "KJbNEmwaEOSB",
        "outputId": "7a2140b6-7999-4995-93ac-265b2989bd6a"
      },
      "execution_count": 11,
      "outputs": [
        {
          "output_type": "stream",
          "name": "stdout",
          "text": [
            "Missing Values:\n",
            "Unnamed: 0               0\n",
            "Date                     0\n",
            "Q-P1                     0\n",
            "Q-P2                     0\n",
            "Q-P3                     0\n",
            "Q-P4                     0\n",
            "S-P1                     0\n",
            "S-P2                     0\n",
            "S-P3                     0\n",
            "S-P4                     0\n",
            "marketing_strategy    4575\n",
            "dtype: int64\n",
            "Duplicate Rows:\n",
            "Empty DataFrame\n",
            "Columns: [Unnamed: 0, Date, Q-P1, Q-P2, Q-P3, Q-P4, S-P1, S-P2, S-P3, S-P4, marketing_strategy]\n",
            "Index: []\n"
          ]
        }
      ]
    },
    {
      "cell_type": "code",
      "source": [
        "# Check unique values in a column\n",
        "unique_values = df['Date'].unique()\n",
        "\n",
        "# Check date format consistency (assuming the 'Date' column is in datetime format)\n",
        "date_format_consistency = pd.to_datetime(df['Date'], errors='coerce').notna()\n",
        "\n",
        "print(\"Unique Values in Category:\")\n",
        "print(unique_values)\n",
        "print(\"Date Format Consistency:\")\n",
        "print(date_format_consistency)"
      ],
      "metadata": {
        "colab": {
          "base_uri": "https://localhost:8080/"
        },
        "id": "FEQ5-zvQEv-4",
        "outputId": "db3a2f43-95ca-4085-f614-5d873a987e37"
      },
      "execution_count": 13,
      "outputs": [
        {
          "output_type": "stream",
          "name": "stdout",
          "text": [
            "Unique Values in Category:\n",
            "['2010-06-13T00:00:00.000000000' '2010-06-14T00:00:00.000000000'\n",
            " '2010-06-15T00:00:00.000000000' ... '2023-01-02T00:00:00.000000000'\n",
            " '2023-02-02T00:00:00.000000000' '2023-03-02T00:00:00.000000000']\n",
            "Date Format Consistency:\n",
            "0       True\n",
            "1       True\n",
            "2       True\n",
            "3       True\n",
            "4       True\n",
            "        ... \n",
            "4595    True\n",
            "4596    True\n",
            "4597    True\n",
            "4598    True\n",
            "4599    True\n",
            "Name: Date, Length: 4575, dtype: bool\n"
          ]
        }
      ]
    },
    {
      "cell_type": "code",
      "source": [
        "import matplotlib.pyplot as plt\n",
        "\n",
        "# Example: Histogram of a numerical column\n",
        "plt.hist(df['S-P1'], bins=20)\n",
        "plt.xlabel('Value')\n",
        "plt.ylabel('Frequency')\n",
        "plt.title('Data Distribution')\n",
        "plt.show()"
      ],
      "metadata": {
        "colab": {
          "base_uri": "https://localhost:8080/",
          "height": 472
        },
        "id": "5B1i89BiE_GG",
        "outputId": "d15224a9-d55f-4380-dd95-70a29fcf55e8"
      },
      "execution_count": 17,
      "outputs": [
        {
          "output_type": "display_data",
          "data": {
            "text/plain": [
              "<Figure size 640x480 with 1 Axes>"
            ],
            "image/png": "[encoded data removed]"
          },
          "metadata": {}
        }
      ]
    },
    {
      "cell_type": "code",
      "source": [
        "missing_values = df.isnull().sum().sum()\n",
        "\n",
        "# Step 3: Handle errors or inconsistencies\n",
        "# Example: Fill missing values or drop rows with missing data\n",
        "df.dropna(inplace=True)\n",
        "\n",
        "# Step 4: Apply statistical analysis\n",
        "# Example: Calculate descriptive statistics\n",
        "statistics = df.describe()\n",
        "\n",
        "# Step 5: Calculate the accuracy and reliability metrics\n",
        "# You can define your own criteria to assess accuracy and reliability based on your data and requirements.\n",
        "# Example: Assess accuracy based on data range and reliability based on standard deviation\n",
        "accuracy = \"High\" if df['S-P2'].max() - df['S-P1'].min() < 10 else \"Low\"\n",
        "reliability = \"High\" if df['S-P3'].std() < 2 else \"Low\"\n",
        "\n",
        "# Step 6: Report the findings\n",
        "print(\"Data Accuracy:\", accuracy)\n",
        "print(\"Data Reliability:\", reliability)\n",
        "print(\"Missing Values:\", missing_values)\n",
        "print(\"Descriptive Statistics:\\n\", statistics)\n",
        "\n",
        "# Step 7: Save the cleaned data to a new Excel file (optional)\n",
        "output_file_path = 'cleaned_excel_file.xlsx'\n",
        "df.to_excel(output_file_path, index=False)\n",
        "\n",
        "print(\"Cleaned data saved to\", output_file_path)"
      ],
      "metadata": {
        "colab": {
          "base_uri": "https://localhost:8080/"
        },
        "id": "C-g63bToIBoG",
        "outputId": "2a521ed4-89a4-42cf-d6dc-21ce7c2ed80c"
      },
      "execution_count": 20,
      "outputs": [
        {
          "output_type": "stream",
          "name": "stdout",
          "text": [
            "Data Accuracy: Low\n",
            "Data Reliability: Low\n",
            "Missing Values: 0.0\n",
            "Descriptive Statistics:\n",
            "        Unnamed: 0  Q-P1  Q-P2  Q-P3  Q-P4  S-P1  S-P2  S-P3  S-P4  \\\n",
            "count         0.0   0.0   0.0   0.0   0.0   0.0   0.0   0.0   0.0   \n",
            "mean          NaN   NaN   NaN   NaN   NaN   NaN   NaN   NaN   NaN   \n",
            "std           NaN   NaN   NaN   NaN   NaN   NaN   NaN   NaN   NaN   \n",
            "min           NaN   NaN   NaN   NaN   NaN   NaN   NaN   NaN   NaN   \n",
            "25%           NaN   NaN   NaN   NaN   NaN   NaN   NaN   NaN   NaN   \n",
            "50%           NaN   NaN   NaN   NaN   NaN   NaN   NaN   NaN   NaN   \n",
            "75%           NaN   NaN   NaN   NaN   NaN   NaN   NaN   NaN   NaN   \n",
            "max           NaN   NaN   NaN   NaN   NaN   NaN   NaN   NaN   NaN   \n",
            "\n",
            "       marketing_strategy  \n",
            "count                 0.0  \n",
            "mean                  NaN  \n",
            "std                   NaN  \n",
            "min                   NaN  \n",
            "25%                   NaN  \n",
            "50%                   NaN  \n",
            "75%                   NaN  \n",
            "max                   NaN  \n",
            "Cleaned data saved to cleaned_excel_file.xlsx\n"
          ]
        }
      ]
    }
  ]
}